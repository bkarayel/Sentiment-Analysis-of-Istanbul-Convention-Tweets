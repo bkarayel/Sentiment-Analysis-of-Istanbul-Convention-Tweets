{
 "cells": [
  {
   "cell_type": "markdown",
   "id": "022ea862",
   "metadata": {},
   "source": [
    "## Finding the Best Fit Model for SML\n",
    "### Berra Karayel 0054477"
   ]
  },
  {
   "cell_type": "code",
   "execution_count": 1,
   "id": "fcad5f8b",
   "metadata": {},
   "outputs": [],
   "source": [
    "import pandas as pd\n",
    "import numpy as np\n",
    "\n",
    "from sklearn.model_selection import train_test_split\n",
    "from sklearn.metrics import accuracy_score\n",
    "from sklearn.metrics import classification_report\n",
    "from sklearn.metrics import confusion_matrix\n",
    "from sklearn.feature_extraction.text import CountVectorizer"
   ]
  },
  {
   "cell_type": "code",
   "execution_count": 2,
   "id": "6dc896cd",
   "metadata": {},
   "outputs": [],
   "source": [
    "preprocessed_istsöz = pd.read_csv(\"/Users/berrakarayel/Desktop/nlp projectt/Data Collection/Data Set/istsöz_tweets_preprocessed.csv\")"
   ]
  },
  {
   "cell_type": "code",
   "execution_count": 3,
   "id": "fc7d4cab",
   "metadata": {},
   "outputs": [
    {
     "data": {
      "text/html": [
       "<div>\n",
       "<style scoped>\n",
       "    .dataframe tbody tr th:only-of-type {\n",
       "        vertical-align: middle;\n",
       "    }\n",
       "\n",
       "    .dataframe tbody tr th {\n",
       "        vertical-align: top;\n",
       "    }\n",
       "\n",
       "    .dataframe thead th {\n",
       "        text-align: right;\n",
       "    }\n",
       "</style>\n",
       "<table border=\"1\" class=\"dataframe\">\n",
       "  <thead>\n",
       "    <tr style=\"text-align: right;\">\n",
       "      <th></th>\n",
       "      <th>Unnamed: 0</th>\n",
       "      <th>Unnamed: 0.1</th>\n",
       "      <th>Date</th>\n",
       "      <th>Tweet</th>\n",
       "      <th>Id</th>\n",
       "      <th>Sentiment</th>\n",
       "    </tr>\n",
       "  </thead>\n",
       "  <tbody>\n",
       "    <tr>\n",
       "      <th>0</th>\n",
       "      <td>0</td>\n",
       "      <td>36621</td>\n",
       "      <td>2022-02-19 08:50:11+00:00</td>\n",
       "      <td>kadın cinayet baş yazmak sebep süre nafakakadı...</td>\n",
       "      <td>1.494957e+18</td>\n",
       "      <td>negative</td>\n",
       "    </tr>\n",
       "    <tr>\n",
       "      <th>1</th>\n",
       "      <td>1</td>\n",
       "      <td>9760</td>\n",
       "      <td>2021-03-20 21:02:07+00:00</td>\n",
       "      <td>istanbulsözleşmesii̇lginç olmak yürümek girmek...</td>\n",
       "      <td>1.373379e+18</td>\n",
       "      <td>neutral</td>\n",
       "    </tr>\n",
       "    <tr>\n",
       "      <th>2</th>\n",
       "      <td>2</td>\n",
       "      <td>2900</td>\n",
       "      <td>2021-06-16 20:53:23+00:00</td>\n",
       "      <td>kadir şeker utanmak cezalandırıyorkenböyle hay...</td>\n",
       "      <td>1.405267e+18</td>\n",
       "      <td>positive</td>\n",
       "    </tr>\n",
       "    <tr>\n",
       "      <th>3</th>\n",
       "      <td>3</td>\n",
       "      <td>22092</td>\n",
       "      <td>2021-03-20 10:05:56+00:00</td>\n",
       "      <td>i̇stanbulsözleşmesi</td>\n",
       "      <td>1.373214e+18</td>\n",
       "      <td>neutral</td>\n",
       "    </tr>\n",
       "    <tr>\n",
       "      <th>4</th>\n",
       "      <td>4</td>\n",
       "      <td>50127</td>\n",
       "      <td>2021-03-20 09:26:24+00:00</td>\n",
       "      <td>kadın ölmek doğrusu insan ölmek zaten yasak e ...</td>\n",
       "      <td>1.373204e+18</td>\n",
       "      <td>negative</td>\n",
       "    </tr>\n",
       "    <tr>\n",
       "      <th>5</th>\n",
       "      <td>5</td>\n",
       "      <td>5575</td>\n",
       "      <td>2021-03-24 21:57:52+00:00</td>\n",
       "      <td>suç var çocuk suç var kadın gün bir kadın çocu...</td>\n",
       "      <td>1.374843e+18</td>\n",
       "      <td>neutral</td>\n",
       "    </tr>\n",
       "    <tr>\n",
       "      <th>6</th>\n",
       "      <td>6</td>\n",
       "      <td>26695</td>\n",
       "      <td>2021-03-20 08:44:28+00:00</td>\n",
       "      <td>türki i̇stanbul sözleşme ayrılmak bakı tarih n...</td>\n",
       "      <td>1.373194e+18</td>\n",
       "      <td>positive</td>\n",
       "    </tr>\n",
       "    <tr>\n",
       "      <th>7</th>\n",
       "      <td>7</td>\n",
       "      <td>43171</td>\n",
       "      <td>2021-04-01 20:52:15+00:00</td>\n",
       "      <td>iftira mi mor halka kısa birörnek chp taciz te...</td>\n",
       "      <td>1.377726e+18</td>\n",
       "      <td>positive</td>\n",
       "    </tr>\n",
       "    <tr>\n",
       "      <th>8</th>\n",
       "      <td>8</td>\n",
       "      <td>20325</td>\n",
       "      <td>2021-03-20 10:40:13+00:00</td>\n",
       "      <td>gün geçmek kadın hak çoğalmak gerekmek kötü gi...</td>\n",
       "      <td>1.373223e+18</td>\n",
       "      <td>positive</td>\n",
       "    </tr>\n",
       "    <tr>\n",
       "      <th>9</th>\n",
       "      <td>9</td>\n",
       "      <td>27469</td>\n",
       "      <td>2021-03-20 08:28:44+00:00</td>\n",
       "      <td>i̇stanbulsözleşmesi istanbulsözleşmesiyasatır</td>\n",
       "      <td>1.373190e+18</td>\n",
       "      <td>positive</td>\n",
       "    </tr>\n",
       "  </tbody>\n",
       "</table>\n",
       "</div>"
      ],
      "text/plain": [
       "   Unnamed: 0  Unnamed: 0.1                       Date  \\\n",
       "0           0         36621  2022-02-19 08:50:11+00:00   \n",
       "1           1          9760  2021-03-20 21:02:07+00:00   \n",
       "2           2          2900  2021-06-16 20:53:23+00:00   \n",
       "3           3         22092  2021-03-20 10:05:56+00:00   \n",
       "4           4         50127  2021-03-20 09:26:24+00:00   \n",
       "5           5          5575  2021-03-24 21:57:52+00:00   \n",
       "6           6         26695  2021-03-20 08:44:28+00:00   \n",
       "7           7         43171  2021-04-01 20:52:15+00:00   \n",
       "8           8         20325  2021-03-20 10:40:13+00:00   \n",
       "9           9         27469  2021-03-20 08:28:44+00:00   \n",
       "\n",
       "                                               Tweet            Id Sentiment  \n",
       "0  kadın cinayet baş yazmak sebep süre nafakakadı...  1.494957e+18  negative  \n",
       "1  istanbulsözleşmesii̇lginç olmak yürümek girmek...  1.373379e+18   neutral  \n",
       "2  kadir şeker utanmak cezalandırıyorkenböyle hay...  1.405267e+18  positive  \n",
       "3                                i̇stanbulsözleşmesi  1.373214e+18   neutral  \n",
       "4  kadın ölmek doğrusu insan ölmek zaten yasak e ...  1.373204e+18  negative  \n",
       "5  suç var çocuk suç var kadın gün bir kadın çocu...  1.374843e+18   neutral  \n",
       "6  türki i̇stanbul sözleşme ayrılmak bakı tarih n...  1.373194e+18  positive  \n",
       "7  iftira mi mor halka kısa birörnek chp taciz te...  1.377726e+18  positive  \n",
       "8  gün geçmek kadın hak çoğalmak gerekmek kötü gi...  1.373223e+18  positive  \n",
       "9      i̇stanbulsözleşmesi istanbulsözleşmesiyasatır  1.373190e+18  positive  "
      ]
     },
     "execution_count": 3,
     "metadata": {},
     "output_type": "execute_result"
    }
   ],
   "source": [
    "preprocessed_istsöz.head(10)"
   ]
  },
  {
   "cell_type": "code",
   "execution_count": 4,
   "id": "2cda54e4",
   "metadata": {},
   "outputs": [
    {
     "data": {
      "text/plain": [
       "Unnamed: 0      False\n",
       "Unnamed: 0.1    False\n",
       "Date            False\n",
       "Tweet            True\n",
       "Id              False\n",
       "Sentiment        True\n",
       "dtype: bool"
      ]
     },
     "execution_count": 4,
     "metadata": {},
     "output_type": "execute_result"
    }
   ],
   "source": [
    "preprocessed_istsöz.isna().any()"
   ]
  },
  {
   "cell_type": "code",
   "execution_count": 5,
   "id": "14a35f72",
   "metadata": {},
   "outputs": [],
   "source": [
    "preprocessed_istsöz = preprocessed_istsöz.dropna()"
   ]
  },
  {
   "cell_type": "code",
   "execution_count": 6,
   "id": "64070c14",
   "metadata": {},
   "outputs": [
    {
     "data": {
      "text/plain": [
       "Unnamed: 0      False\n",
       "Unnamed: 0.1    False\n",
       "Date            False\n",
       "Tweet           False\n",
       "Id              False\n",
       "Sentiment       False\n",
       "dtype: bool"
      ]
     },
     "execution_count": 6,
     "metadata": {},
     "output_type": "execute_result"
    }
   ],
   "source": [
    "preprocessed_istsöz.isna().any()"
   ]
  },
  {
   "cell_type": "code",
   "execution_count": 7,
   "id": "25f4530b",
   "metadata": {},
   "outputs": [
    {
     "data": {
      "text/plain": [
       "positive    1685\n",
       "neutral      800\n",
       "negative     509\n",
       "Name: Sentiment, dtype: int64"
      ]
     },
     "execution_count": 7,
     "metadata": {},
     "output_type": "execute_result"
    }
   ],
   "source": [
    "preprocessed_istsöz[\"Sentiment\"].value_counts()"
   ]
  },
  {
   "cell_type": "code",
   "execution_count": 8,
   "id": "81b372e8",
   "metadata": {},
   "outputs": [],
   "source": [
    "X = preprocessed_istsöz[\"Tweet\"]\n",
    "y = preprocessed_istsöz[\"Sentiment\"]"
   ]
  },
  {
   "cell_type": "code",
   "execution_count": 9,
   "id": "44dd47ef",
   "metadata": {},
   "outputs": [
    {
     "data": {
      "text/plain": [
       "0       kadın cinayet baş yazmak sebep süre nafakakadı...\n",
       "1       istanbulsözleşmesii̇lginç olmak yürümek girmek...\n",
       "2       kadir şeker utanmak cezalandırıyorkenböyle hay...\n",
       "3                                     i̇stanbulsözleşmesi\n",
       "4       kadın ölmek doğrusu insan ölmek zaten yasak e ...\n",
       "                              ...                        \n",
       "2995    istanbulşözleşmesi iptal üzeri ge geliyor ülke...\n",
       "2996    fenerbahçe galatasaray spor kulüp i̇stanbul sö...\n",
       "2997    istanbulsözleşmesi iptal olmak mükemmel mağdur...\n",
       "2998    gez hdp i̇stanbul sözleşme ant kes gerekmek ge...\n",
       "2999    siz fonlamak güruh i̇stanbul sözleşme ni türk ...\n",
       "Name: Tweet, Length: 2994, dtype: object"
      ]
     },
     "execution_count": 9,
     "metadata": {},
     "output_type": "execute_result"
    }
   ],
   "source": [
    "X"
   ]
  },
  {
   "cell_type": "code",
   "execution_count": 10,
   "id": "f19a939a",
   "metadata": {},
   "outputs": [
    {
     "data": {
      "text/plain": [
       "0       negative\n",
       "1        neutral\n",
       "2       positive\n",
       "3        neutral\n",
       "4       negative\n",
       "          ...   \n",
       "2995    negative\n",
       "2996     neutral\n",
       "2997    positive\n",
       "2998     neutral\n",
       "2999    negative\n",
       "Name: Sentiment, Length: 2994, dtype: object"
      ]
     },
     "execution_count": 10,
     "metadata": {},
     "output_type": "execute_result"
    }
   ],
   "source": [
    "y"
   ]
  },
  {
   "cell_type": "markdown",
   "id": "8a4b2958",
   "metadata": {},
   "source": [
    "### CountVectorizer for text classification"
   ]
  },
  {
   "cell_type": "code",
   "execution_count": 11,
   "id": "8e4a84c6",
   "metadata": {},
   "outputs": [],
   "source": [
    "Xtrain, Xtest, ytrain, ytest = train_test_split(X, y,test_size=0.2,random_state=1)"
   ]
  },
  {
   "cell_type": "code",
   "execution_count": 12,
   "id": "b2114564",
   "metadata": {},
   "outputs": [],
   "source": [
    "count_vectorizer=CountVectorizer()"
   ]
  },
  {
   "cell_type": "code",
   "execution_count": 13,
   "id": "e2cf94a1",
   "metadata": {},
   "outputs": [
    {
     "name": "stdout",
     "output_type": "stream",
     "text": [
      "Requirement already satisfied: scikit-learn in ./opt/anaconda3/lib/python3.8/site-packages (0.24.1)\n",
      "Requirement already satisfied: numpy in ./opt/anaconda3/lib/python3.8/site-packages (1.20.1)\n",
      "Requirement already satisfied: threadpoolctl>=2.0.0 in ./opt/anaconda3/lib/python3.8/site-packages (from scikit-learn) (2.1.0)\n",
      "Requirement already satisfied: scipy>=0.19.1 in ./opt/anaconda3/lib/python3.8/site-packages (from scikit-learn) (1.6.2)\n",
      "Requirement already satisfied: joblib>=0.11 in ./opt/anaconda3/lib/python3.8/site-packages (from scikit-learn) (1.0.1)\n",
      "Note: you may need to restart the kernel to use updated packages.\n"
     ]
    }
   ],
   "source": [
    "pip install scikit-learn numpy"
   ]
  },
  {
   "cell_type": "code",
   "execution_count": 14,
   "id": "8efe4529",
   "metadata": {},
   "outputs": [],
   "source": [
    "X, y = preprocessed_istsöz.Tweet.fillna(' '), preprocessed_istsöz.Sentiment"
   ]
  },
  {
   "cell_type": "code",
   "execution_count": 15,
   "id": "1f55a32b",
   "metadata": {},
   "outputs": [],
   "source": [
    "X_train=count_vectorizer.fit_transform(Xtrain)"
   ]
  },
  {
   "cell_type": "code",
   "execution_count": 16,
   "id": "f54cd0cc",
   "metadata": {},
   "outputs": [],
   "source": [
    "X_test=count_vectorizer.transform(Xtest)"
   ]
  },
  {
   "cell_type": "code",
   "execution_count": 17,
   "id": "d92a5252",
   "metadata": {},
   "outputs": [
    {
     "name": "stdout",
     "output_type": "stream",
     "text": [
      "['aa', 'aah', 'ab', 'abartmak', 'abd', 'abdest', 'abdullah', 'abdyenatoya', 'aber', 'aberracıón']\n"
     ]
    }
   ],
   "source": [
    "print(count_vectorizer.get_feature_names()[:10])"
   ]
  },
  {
   "cell_type": "code",
   "execution_count": 18,
   "id": "bdfdbf9b",
   "metadata": {},
   "outputs": [],
   "source": [
    "count_df = pd.DataFrame(X_train.A, columns=count_vectorizer.get_feature_names())"
   ]
  },
  {
   "cell_type": "code",
   "execution_count": 19,
   "id": "340abcb1",
   "metadata": {},
   "outputs": [
    {
     "name": "stdout",
     "output_type": "stream",
     "text": [
      "   aa  aah  ab  abartmak  abd  abdest  abdullah  abdyenatoya  aber  \\\n",
      "0   0    0   0         0    0       0         0            0     0   \n",
      "1   0    0   0         0    0       0         0            0     0   \n",
      "2   0    0   0         0    0       0         0            0     0   \n",
      "3   0    0   0         0    0       0         0            0     0   \n",
      "4   0    0   0         0    0       0         0            0     0   \n",
      "\n",
      "   aberracıón  ...  ولا  يصل  يقتل  कब  มม  เนเน  より  トルコ  \\\n",
      "0           0  ...    0    0     0   0   0     0   0    0   \n",
      "1           0  ...    0    0     0   0   0     0   0    0   \n",
      "2           0  ...    0    0     0   0   0     0   0    0   \n",
      "3           0  ...    0    0     0   0   0     0   0    0   \n",
      "4           0  ...    0    0     0   0   0     0   0    0   \n",
      "\n",
      "   トルコはイスタンブール条約から正式に脱退  끝나지않을비투비년  \n",
      "0                     0          0  \n",
      "1                     0          0  \n",
      "2                     0          0  \n",
      "3                     0          0  \n",
      "4                     0          0  \n",
      "\n",
      "[5 rows x 6898 columns]\n"
     ]
    }
   ],
   "source": [
    "print(count_df.head())"
   ]
  },
  {
   "cell_type": "markdown",
   "id": "253a2354",
   "metadata": {},
   "source": [
    "### Support Vector Machine"
   ]
  },
  {
   "cell_type": "code",
   "execution_count": 20,
   "id": "f2cc3fe9",
   "metadata": {},
   "outputs": [],
   "source": [
    "from sklearn.svm import SVC"
   ]
  },
  {
   "cell_type": "code",
   "execution_count": 21,
   "id": "bcf0cf7b",
   "metadata": {},
   "outputs": [
    {
     "name": "stdout",
     "output_type": "stream",
     "text": [
      "              precision    recall  f1-score   support\n",
      "\n",
      "    negative       0.77      0.18      0.30        92\n",
      "     neutral       0.66      0.30      0.41       167\n",
      "    positive       0.63      0.93      0.75       340\n",
      "\n",
      "    accuracy                           0.64       599\n",
      "   macro avg       0.69      0.47      0.49       599\n",
      "weighted avg       0.66      0.64      0.59       599\n",
      "\n"
     ]
    }
   ],
   "source": [
    "svm=SVC()\n",
    "svm.fit(X_train, ytrain)\n",
    "ypred2=svm.predict(X_test)\n",
    "accuracy_score(ytest,ypred2)\n",
    "print(classification_report(ytest,ypred2))"
   ]
  },
  {
   "cell_type": "markdown",
   "id": "972372f5",
   "metadata": {},
   "source": [
    "### Logistic Regression"
   ]
  },
  {
   "cell_type": "code",
   "execution_count": 22,
   "id": "bbecdd09",
   "metadata": {},
   "outputs": [],
   "source": [
    "from sklearn.linear_model import LogisticRegression\n",
    "from sklearn import linear_model"
   ]
  },
  {
   "cell_type": "code",
   "execution_count": 23,
   "id": "2ebc880c",
   "metadata": {},
   "outputs": [
    {
     "name": "stdout",
     "output_type": "stream",
     "text": [
      "              precision    recall  f1-score   support\n",
      "\n",
      "    negative       0.58      0.41      0.48        92\n",
      "     neutral       0.63      0.61      0.62       167\n",
      "    positive       0.77      0.84      0.80       340\n",
      "\n",
      "    accuracy                           0.71       599\n",
      "   macro avg       0.66      0.62      0.64       599\n",
      "weighted avg       0.70      0.71      0.70       599\n",
      "\n"
     ]
    }
   ],
   "source": [
    "log_reg = linear_model.LogisticRegression()\n",
    "log_reg.fit(X_train,ytrain)\n",
    "y_pred=log_reg.predict(X_test)\n",
    "print(classification_report(ytest,y_pred))"
   ]
  },
  {
   "cell_type": "markdown",
   "id": "7b8186b9",
   "metadata": {},
   "source": [
    "### Random Forest"
   ]
  },
  {
   "cell_type": "code",
   "execution_count": 24,
   "id": "fdb5f61d",
   "metadata": {},
   "outputs": [],
   "source": [
    "from sklearn.ensemble import RandomForestClassifier"
   ]
  },
  {
   "cell_type": "code",
   "execution_count": 25,
   "id": "83ea28ff",
   "metadata": {},
   "outputs": [
    {
     "name": "stdout",
     "output_type": "stream",
     "text": [
      "              precision    recall  f1-score   support\n",
      "\n",
      "    negative       0.59      0.22      0.32        92\n",
      "     neutral       0.58      0.62      0.60       167\n",
      "    positive       0.72      0.82      0.76       340\n",
      "\n",
      "    accuracy                           0.67       599\n",
      "   macro avg       0.63      0.55      0.56       599\n",
      "weighted avg       0.66      0.67      0.65       599\n",
      "\n"
     ]
    }
   ],
   "source": [
    "random_forest=RandomForestClassifier()\n",
    "random_forest.fit(X_train,ytrain)\n",
    "ypred1=random_forest.predict(X_test)\n",
    "print(classification_report(ytest,ypred1))"
   ]
  },
  {
   "cell_type": "markdown",
   "id": "52dc3163",
   "metadata": {},
   "source": [
    "### K Nearest Neighbor (KNN)"
   ]
  },
  {
   "cell_type": "code",
   "execution_count": 26,
   "id": "ab0dc9a6",
   "metadata": {},
   "outputs": [],
   "source": [
    "from sklearn.neighbors import KNeighborsClassifier"
   ]
  },
  {
   "cell_type": "code",
   "execution_count": 27,
   "id": "189d7d0e",
   "metadata": {},
   "outputs": [
    {
     "name": "stdout",
     "output_type": "stream",
     "text": [
      "              precision    recall  f1-score   support\n",
      "\n",
      "    negative       0.23      0.05      0.09        92\n",
      "     neutral       0.36      0.89      0.52       167\n",
      "    positive       0.81      0.40      0.53       340\n",
      "\n",
      "    accuracy                           0.48       599\n",
      "   macro avg       0.47      0.45      0.38       599\n",
      "weighted avg       0.60      0.48      0.46       599\n",
      "\n"
     ]
    }
   ],
   "source": [
    "k_nearest = KNeighborsClassifier()\n",
    "k_nearest.fit(X_train, ytrain)\n",
    "ypred3=k_nearest.predict(X_test)\n",
    "accuracy_score(ytest,ypred3)\n",
    "print(classification_report(ytest,ypred3))"
   ]
  },
  {
   "cell_type": "markdown",
   "id": "4e11c832",
   "metadata": {},
   "source": [
    "### Multinominal NB"
   ]
  },
  {
   "cell_type": "code",
   "execution_count": 28,
   "id": "0128842f",
   "metadata": {},
   "outputs": [],
   "source": [
    "from sklearn.naive_bayes import MultinomialNB"
   ]
  },
  {
   "cell_type": "code",
   "execution_count": 29,
   "id": "8f811cd5",
   "metadata": {},
   "outputs": [
    {
     "name": "stdout",
     "output_type": "stream",
     "text": [
      "              precision    recall  f1-score   support\n",
      "\n",
      "    negative       0.47      0.29      0.36        92\n",
      "     neutral       0.71      0.41      0.52       167\n",
      "    positive       0.69      0.91      0.79       340\n",
      "\n",
      "    accuracy                           0.67       599\n",
      "   macro avg       0.62      0.54      0.55       599\n",
      "weighted avg       0.66      0.67      0.65       599\n",
      "\n"
     ]
    }
   ],
   "source": [
    "multi_nb=MultinomialNB()\n",
    "multi_nb.fit(X_train,ytrain)\n",
    "y_pred=multi_nb.predict(X_test)\n",
    "print(classification_report(ytest,y_pred))"
   ]
  }
 ],
 "metadata": {
  "kernelspec": {
   "display_name": "Python 3",
   "language": "python",
   "name": "python3"
  },
  "language_info": {
   "codemirror_mode": {
    "name": "ipython",
    "version": 3
   },
   "file_extension": ".py",
   "mimetype": "text/x-python",
   "name": "python",
   "nbconvert_exporter": "python",
   "pygments_lexer": "ipython3",
   "version": "3.8.8"
  }
 },
 "nbformat": 4,
 "nbformat_minor": 5
}
