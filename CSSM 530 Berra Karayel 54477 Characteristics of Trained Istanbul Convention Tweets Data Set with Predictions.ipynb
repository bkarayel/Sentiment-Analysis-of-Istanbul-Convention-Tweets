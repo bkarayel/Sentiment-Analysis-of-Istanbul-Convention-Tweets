{
 "cells": [
  {
   "cell_type": "markdown",
   "id": "3c1ff3d0",
   "metadata": {},
   "source": [
    "## Characteristics of Trained Istanbul Convention Tweets Data Set with Predictions\n",
    "#### Berra Karayel 0054477"
   ]
  },
  {
   "cell_type": "code",
   "execution_count": 1,
   "id": "63ed1814",
   "metadata": {},
   "outputs": [],
   "source": [
    "import pandas as pd\n",
    "import numpy as np\n",
    "import matplotlib.pyplot as plt"
   ]
  },
  {
   "cell_type": "code",
   "execution_count": 2,
   "id": "7675a5a6",
   "metadata": {},
   "outputs": [
    {
     "data": {
      "text/html": [
       "<div>\n",
       "<style scoped>\n",
       "    .dataframe tbody tr th:only-of-type {\n",
       "        vertical-align: middle;\n",
       "    }\n",
       "\n",
       "    .dataframe tbody tr th {\n",
       "        vertical-align: top;\n",
       "    }\n",
       "\n",
       "    .dataframe thead th {\n",
       "        text-align: right;\n",
       "    }\n",
       "</style>\n",
       "<table border=\"1\" class=\"dataframe\">\n",
       "  <thead>\n",
       "    <tr style=\"text-align: right;\">\n",
       "      <th></th>\n",
       "      <th>Tweet</th>\n",
       "      <th>Predictions</th>\n",
       "    </tr>\n",
       "  </thead>\n",
       "  <tbody>\n",
       "    <tr>\n",
       "      <th>0</th>\n",
       "      <td>KADINLAR UYANIN, UYANIN KADINLAR!\\n#istanbulso...</td>\n",
       "      <td>positive</td>\n",
       "    </tr>\n",
       "    <tr>\n",
       "      <th>1</th>\n",
       "      <td>Tarlabaşı midyecisi mahsun da ikinciye yürümüş...</td>\n",
       "      <td>positive</td>\n",
       "    </tr>\n",
       "    <tr>\n",
       "      <th>2</th>\n",
       "      <td>Adi istanbul sözleşmesi ama içinde Türkiye yok...</td>\n",
       "      <td>positive</td>\n",
       "    </tr>\n",
       "    <tr>\n",
       "      <th>3</th>\n",
       "      <td>mahallede bi kadın davul çalarak istanbul sözl...</td>\n",
       "      <td>positive</td>\n",
       "    </tr>\n",
       "    <tr>\n",
       "      <th>4</th>\n",
       "      <td>@SPTEMEL yarın iyi parti chp akp hurda lari bi...</td>\n",
       "      <td>positive</td>\n",
       "    </tr>\n",
       "    <tr>\n",
       "      <th>5</th>\n",
       "      <td>@scorpio01937505 @NergisAtci Ben uzun süredir ...</td>\n",
       "      <td>positive</td>\n",
       "    </tr>\n",
       "    <tr>\n",
       "      <th>6</th>\n",
       "      <td>Lgbt+liler kadar başınıza taş düşsün o zaman a...</td>\n",
       "      <td>positive</td>\n",
       "    </tr>\n",
       "    <tr>\n",
       "      <th>7</th>\n",
       "      <td>Ben kocama ayıp olur diye hiçbir şeyi ne oldu ...</td>\n",
       "      <td>positive</td>\n",
       "    </tr>\n",
       "    <tr>\n",
       "      <th>8</th>\n",
       "      <td>#istanbulsoezlesmesi https://t.co/Wn8YHQ8VPL</td>\n",
       "      <td>positive</td>\n",
       "    </tr>\n",
       "    <tr>\n",
       "      <th>9</th>\n",
       "      <td>Halen daha içimizde bir umutla güzel bir güne ...</td>\n",
       "      <td>positive</td>\n",
       "    </tr>\n",
       "  </tbody>\n",
       "</table>\n",
       "</div>"
      ],
      "text/plain": [
       "                                               Tweet Predictions\n",
       "0  KADINLAR UYANIN, UYANIN KADINLAR!\\n#istanbulso...    positive\n",
       "1  Tarlabaşı midyecisi mahsun da ikinciye yürümüş...    positive\n",
       "2  Adi istanbul sözleşmesi ama içinde Türkiye yok...    positive\n",
       "3  mahallede bi kadın davul çalarak istanbul sözl...    positive\n",
       "4  @SPTEMEL yarın iyi parti chp akp hurda lari bi...    positive\n",
       "5  @scorpio01937505 @NergisAtci Ben uzun süredir ...    positive\n",
       "6  Lgbt+liler kadar başınıza taş düşsün o zaman a...    positive\n",
       "7  Ben kocama ayıp olur diye hiçbir şeyi ne oldu ...    positive\n",
       "8       #istanbulsoezlesmesi https://t.co/Wn8YHQ8VPL    positive\n",
       "9  Halen daha içimizde bir umutla güzel bir güne ...    positive"
      ]
     },
     "execution_count": 2,
     "metadata": {},
     "output_type": "execute_result"
    }
   ],
   "source": [
    "predictions = pd.read_csv(\"/Users/berrakarayel/Desktop/nlp projectt/Data Collection/Data Set/predictions.csv\")\n",
    "predictions.head(10)"
   ]
  },
  {
   "cell_type": "code",
   "execution_count": 4,
   "id": "37b8b105",
   "metadata": {},
   "outputs": [
    {
     "data": {
      "text/plain": [
       "(48692, 2)"
      ]
     },
     "execution_count": 4,
     "metadata": {},
     "output_type": "execute_result"
    }
   ],
   "source": [
    "predictions.shape"
   ]
  },
  {
   "cell_type": "code",
   "execution_count": 5,
   "id": "ea2fbda3",
   "metadata": {},
   "outputs": [
    {
     "data": {
      "text/plain": [
       "Index(['Tweet', 'Predictions'], dtype='object')"
      ]
     },
     "execution_count": 5,
     "metadata": {},
     "output_type": "execute_result"
    }
   ],
   "source": [
    "predictions.columns"
   ]
  },
  {
   "cell_type": "code",
   "execution_count": 6,
   "id": "01913006",
   "metadata": {},
   "outputs": [],
   "source": [
    "predictions.rename(columns = {'Predictions':'Sentiment'}, inplace = True)"
   ]
  },
  {
   "cell_type": "code",
   "execution_count": 7,
   "id": "64afa4b4",
   "metadata": {},
   "outputs": [
    {
     "data": {
      "text/plain": [
       "Index(['Tweet', 'Sentiment'], dtype='object')"
      ]
     },
     "execution_count": 7,
     "metadata": {},
     "output_type": "execute_result"
    }
   ],
   "source": [
    "predictions.columns"
   ]
  },
  {
   "cell_type": "code",
   "execution_count": 8,
   "id": "8f6fbaea",
   "metadata": {},
   "outputs": [
    {
     "data": {
      "text/plain": [
       "0        positive\n",
       "1        positive\n",
       "2        positive\n",
       "3        positive\n",
       "4        positive\n",
       "           ...   \n",
       "48687     neutral\n",
       "48688     neutral\n",
       "48689    positive\n",
       "48690    positive\n",
       "48691    positive\n",
       "Name: Sentiment, Length: 48692, dtype: object"
      ]
     },
     "execution_count": 8,
     "metadata": {},
     "output_type": "execute_result"
    }
   ],
   "source": [
    "predictions[\"Sentiment\"]"
   ]
  },
  {
   "cell_type": "code",
   "execution_count": 9,
   "id": "939e869e",
   "metadata": {},
   "outputs": [
    {
     "data": {
      "image/png": "[encoded data removed]",
      "text/plain": [
       "<Figure size 432x288 with 1 Axes>"
      ]
     },
     "metadata": {},
     "output_type": "display_data"
    },
    {
     "data": {
      "text/plain": [
       "positive    33021\n",
       "neutral     12577\n",
       "negative     3094\n",
       "Name: Sentiment, dtype: int64"
      ]
     },
     "execution_count": 9,
     "metadata": {},
     "output_type": "execute_result"
    }
   ],
   "source": [
    "my_colors = ['pink','lightsteelblue','lightgreen']\n",
    "my_labels = ['Positive','Neutral','Negative']\n",
    "\n",
    "plt.pie(predictions['Sentiment'].value_counts(),labels= my_labels,autopct='%1.1f%%', colors=my_colors, shadow=True)\n",
    "plt.title(\"Figure 2.Sentiment of Tweets Related to Istanbul Convention After Training\")\n",
    "plt.legend(title = \"Sentiment:\")\n",
    "plt.show()\n",
    "predictions['Sentiment'].value_counts()"
   ]
  },
  {
   "cell_type": "code",
   "execution_count": null,
   "id": "bc79ac33",
   "metadata": {},
   "outputs": [],
   "source": []
  }
 ],
 "metadata": {
  "kernelspec": {
   "display_name": "Python 3",
   "language": "python",
   "name": "python3"
  },
  "language_info": {
   "codemirror_mode": {
    "name": "ipython",
    "version": 3
   },
   "file_extension": ".py",
   "mimetype": "text/x-python",
   "name": "python",
   "nbconvert_exporter": "python",
   "pygments_lexer": "ipython3",
   "version": "3.8.8"
  }
 },
 "nbformat": 4,
 "nbformat_minor": 5
}
