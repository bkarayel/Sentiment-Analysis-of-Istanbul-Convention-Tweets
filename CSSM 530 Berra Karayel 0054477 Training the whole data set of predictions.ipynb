{
 "cells": [
  {
   "cell_type": "markdown",
   "id": "de426181",
   "metadata": {},
   "source": [
    "## Training and testing a classification model with scikit-learn\n",
    "### Berra Karayel 0054477"
   ]
  },
  {
   "cell_type": "code",
   "execution_count": 1,
   "id": "c5141023",
   "metadata": {},
   "outputs": [],
   "source": [
    "import pandas as pd\n",
    "import json"
   ]
  },
  {
   "cell_type": "code",
   "execution_count": 2,
   "id": "8aed6981",
   "metadata": {},
   "outputs": [],
   "source": [
    "annotated_istsöz = pd.read_csv(\"/Users/berrakarayel/Desktop/nlp projectt/Data Collection/Data Set/istsöz_tweets_preprocessed.csv\")"
   ]
  },
  {
   "cell_type": "code",
   "execution_count": 3,
   "id": "4462d0c3",
   "metadata": {},
   "outputs": [
    {
     "data": {
      "text/html": [
       "<div>\n",
       "<style scoped>\n",
       "    .dataframe tbody tr th:only-of-type {\n",
       "        vertical-align: middle;\n",
       "    }\n",
       "\n",
       "    .dataframe tbody tr th {\n",
       "        vertical-align: top;\n",
       "    }\n",
       "\n",
       "    .dataframe thead th {\n",
       "        text-align: right;\n",
       "    }\n",
       "</style>\n",
       "<table border=\"1\" class=\"dataframe\">\n",
       "  <thead>\n",
       "    <tr style=\"text-align: right;\">\n",
       "      <th></th>\n",
       "      <th>Unnamed: 0</th>\n",
       "      <th>Unnamed: 0.1</th>\n",
       "      <th>Date</th>\n",
       "      <th>Tweet</th>\n",
       "      <th>Id</th>\n",
       "      <th>Sentiment</th>\n",
       "    </tr>\n",
       "  </thead>\n",
       "  <tbody>\n",
       "    <tr>\n",
       "      <th>0</th>\n",
       "      <td>0</td>\n",
       "      <td>36621</td>\n",
       "      <td>2022-02-19 08:50:11+00:00</td>\n",
       "      <td>kadın cinayet baş yazmak sebep süre nafakakadı...</td>\n",
       "      <td>1.494957e+18</td>\n",
       "      <td>negative</td>\n",
       "    </tr>\n",
       "    <tr>\n",
       "      <th>1</th>\n",
       "      <td>1</td>\n",
       "      <td>9760</td>\n",
       "      <td>2021-03-20 21:02:07+00:00</td>\n",
       "      <td>istanbulsözleşmesii̇lginç olmak yürümek girmek...</td>\n",
       "      <td>1.373379e+18</td>\n",
       "      <td>neutral</td>\n",
       "    </tr>\n",
       "    <tr>\n",
       "      <th>2</th>\n",
       "      <td>2</td>\n",
       "      <td>2900</td>\n",
       "      <td>2021-06-16 20:53:23+00:00</td>\n",
       "      <td>kadir şeker utanmak cezalandırıyorkenböyle hay...</td>\n",
       "      <td>1.405267e+18</td>\n",
       "      <td>positive</td>\n",
       "    </tr>\n",
       "    <tr>\n",
       "      <th>3</th>\n",
       "      <td>3</td>\n",
       "      <td>22092</td>\n",
       "      <td>2021-03-20 10:05:56+00:00</td>\n",
       "      <td>i̇stanbulsözleşmesi</td>\n",
       "      <td>1.373214e+18</td>\n",
       "      <td>neutral</td>\n",
       "    </tr>\n",
       "    <tr>\n",
       "      <th>4</th>\n",
       "      <td>4</td>\n",
       "      <td>50127</td>\n",
       "      <td>2021-03-20 09:26:24+00:00</td>\n",
       "      <td>kadın ölmek doğrusu insan ölmek zaten yasak e ...</td>\n",
       "      <td>1.373204e+18</td>\n",
       "      <td>negative</td>\n",
       "    </tr>\n",
       "    <tr>\n",
       "      <th>5</th>\n",
       "      <td>5</td>\n",
       "      <td>5575</td>\n",
       "      <td>2021-03-24 21:57:52+00:00</td>\n",
       "      <td>suç var çocuk suç var kadın gün bir kadın çocu...</td>\n",
       "      <td>1.374843e+18</td>\n",
       "      <td>neutral</td>\n",
       "    </tr>\n",
       "    <tr>\n",
       "      <th>6</th>\n",
       "      <td>6</td>\n",
       "      <td>26695</td>\n",
       "      <td>2021-03-20 08:44:28+00:00</td>\n",
       "      <td>türki i̇stanbul sözleşme ayrılmak bakı tarih n...</td>\n",
       "      <td>1.373194e+18</td>\n",
       "      <td>positive</td>\n",
       "    </tr>\n",
       "    <tr>\n",
       "      <th>7</th>\n",
       "      <td>7</td>\n",
       "      <td>43171</td>\n",
       "      <td>2021-04-01 20:52:15+00:00</td>\n",
       "      <td>iftira mi mor halka kısa birörnek chp taciz te...</td>\n",
       "      <td>1.377726e+18</td>\n",
       "      <td>positive</td>\n",
       "    </tr>\n",
       "    <tr>\n",
       "      <th>8</th>\n",
       "      <td>8</td>\n",
       "      <td>20325</td>\n",
       "      <td>2021-03-20 10:40:13+00:00</td>\n",
       "      <td>gün geçmek kadın hak çoğalmak gerekmek kötü gi...</td>\n",
       "      <td>1.373223e+18</td>\n",
       "      <td>positive</td>\n",
       "    </tr>\n",
       "    <tr>\n",
       "      <th>9</th>\n",
       "      <td>9</td>\n",
       "      <td>27469</td>\n",
       "      <td>2021-03-20 08:28:44+00:00</td>\n",
       "      <td>i̇stanbulsözleşmesi istanbulsözleşmesiyasatır</td>\n",
       "      <td>1.373190e+18</td>\n",
       "      <td>positive</td>\n",
       "    </tr>\n",
       "  </tbody>\n",
       "</table>\n",
       "</div>"
      ],
      "text/plain": [
       "   Unnamed: 0  Unnamed: 0.1                       Date  \\\n",
       "0           0         36621  2022-02-19 08:50:11+00:00   \n",
       "1           1          9760  2021-03-20 21:02:07+00:00   \n",
       "2           2          2900  2021-06-16 20:53:23+00:00   \n",
       "3           3         22092  2021-03-20 10:05:56+00:00   \n",
       "4           4         50127  2021-03-20 09:26:24+00:00   \n",
       "5           5          5575  2021-03-24 21:57:52+00:00   \n",
       "6           6         26695  2021-03-20 08:44:28+00:00   \n",
       "7           7         43171  2021-04-01 20:52:15+00:00   \n",
       "8           8         20325  2021-03-20 10:40:13+00:00   \n",
       "9           9         27469  2021-03-20 08:28:44+00:00   \n",
       "\n",
       "                                               Tweet            Id Sentiment  \n",
       "0  kadın cinayet baş yazmak sebep süre nafakakadı...  1.494957e+18  negative  \n",
       "1  istanbulsözleşmesii̇lginç olmak yürümek girmek...  1.373379e+18   neutral  \n",
       "2  kadir şeker utanmak cezalandırıyorkenböyle hay...  1.405267e+18  positive  \n",
       "3                                i̇stanbulsözleşmesi  1.373214e+18   neutral  \n",
       "4  kadın ölmek doğrusu insan ölmek zaten yasak e ...  1.373204e+18  negative  \n",
       "5  suç var çocuk suç var kadın gün bir kadın çocu...  1.374843e+18   neutral  \n",
       "6  türki i̇stanbul sözleşme ayrılmak bakı tarih n...  1.373194e+18  positive  \n",
       "7  iftira mi mor halka kısa birörnek chp taciz te...  1.377726e+18  positive  \n",
       "8  gün geçmek kadın hak çoğalmak gerekmek kötü gi...  1.373223e+18  positive  \n",
       "9      i̇stanbulsözleşmesi istanbulsözleşmesiyasatır  1.373190e+18  positive  "
      ]
     },
     "execution_count": 3,
     "metadata": {},
     "output_type": "execute_result"
    }
   ],
   "source": [
    "annotated_istsöz.head(10)"
   ]
  },
  {
   "cell_type": "code",
   "execution_count": 4,
   "id": "08ef6752",
   "metadata": {},
   "outputs": [
    {
     "data": {
      "text/plain": [
       "Unnamed: 0      False\n",
       "Unnamed: 0.1    False\n",
       "Date            False\n",
       "Tweet            True\n",
       "Id              False\n",
       "Sentiment        True\n",
       "dtype: bool"
      ]
     },
     "execution_count": 4,
     "metadata": {},
     "output_type": "execute_result"
    }
   ],
   "source": [
    "annotated_istsöz.isna().any()"
   ]
  },
  {
   "cell_type": "code",
   "execution_count": 5,
   "id": "3277bf70",
   "metadata": {},
   "outputs": [],
   "source": [
    "annotated_istsöz = annotated_istsöz.dropna()"
   ]
  },
  {
   "cell_type": "code",
   "execution_count": 6,
   "id": "b5f23f5d",
   "metadata": {},
   "outputs": [
    {
     "data": {
      "text/plain": [
       "Unnamed: 0      False\n",
       "Unnamed: 0.1    False\n",
       "Date            False\n",
       "Tweet           False\n",
       "Id              False\n",
       "Sentiment       False\n",
       "dtype: bool"
      ]
     },
     "execution_count": 6,
     "metadata": {},
     "output_type": "execute_result"
    }
   ],
   "source": [
    "annotated_istsöz.isna().any()"
   ]
  },
  {
   "cell_type": "code",
   "execution_count": 8,
   "id": "534ded62",
   "metadata": {},
   "outputs": [],
   "source": [
    "all_tweets = pd.read_csv(\"/Users/berrakarayel/Desktop/nlp projectt/Data Collection/Data Set/istanbul-sözleşmesi-tweet-data-set.csv\")"
   ]
  },
  {
   "cell_type": "code",
   "execution_count": 9,
   "id": "eeca6b90",
   "metadata": {},
   "outputs": [
    {
     "data": {
      "text/html": [
       "<div>\n",
       "<style scoped>\n",
       "    .dataframe tbody tr th:only-of-type {\n",
       "        vertical-align: middle;\n",
       "    }\n",
       "\n",
       "    .dataframe tbody tr th {\n",
       "        vertical-align: top;\n",
       "    }\n",
       "\n",
       "    .dataframe thead th {\n",
       "        text-align: right;\n",
       "    }\n",
       "</style>\n",
       "<table border=\"1\" class=\"dataframe\">\n",
       "  <thead>\n",
       "    <tr style=\"text-align: right;\">\n",
       "      <th></th>\n",
       "      <th>No</th>\n",
       "      <th>Date</th>\n",
       "      <th>Tweet</th>\n",
       "      <th>Id</th>\n",
       "    </tr>\n",
       "  </thead>\n",
       "  <tbody>\n",
       "    <tr>\n",
       "      <th>0</th>\n",
       "      <td>23099</td>\n",
       "      <td>2021-03-20 09:49:34+00:00</td>\n",
       "      <td>KADINLAR UYANIN, UYANIN KADINLAR!\\n#istanbulso...</td>\n",
       "      <td>1.373210e+18</td>\n",
       "    </tr>\n",
       "    <tr>\n",
       "      <th>1</th>\n",
       "      <td>36287</td>\n",
       "      <td>2022-03-16 17:34:35+00:00</td>\n",
       "      <td>Tarlabaşı midyecisi mahsun da ikinciye yürümüş...</td>\n",
       "      <td>1.504149e+18</td>\n",
       "    </tr>\n",
       "    <tr>\n",
       "      <th>2</th>\n",
       "      <td>51585</td>\n",
       "      <td>2021-03-20 00:35:25+00:00</td>\n",
       "      <td>Adi istanbul sözleşmesi ama içinde Türkiye yok...</td>\n",
       "      <td>1.373071e+18</td>\n",
       "    </tr>\n",
       "    <tr>\n",
       "      <th>3</th>\n",
       "      <td>7583</td>\n",
       "      <td>2021-03-21 18:02:37+00:00</td>\n",
       "      <td>mahallede bi kadın davul çalarak istanbul sözl...</td>\n",
       "      <td>1.373697e+18</td>\n",
       "    </tr>\n",
       "    <tr>\n",
       "      <th>4</th>\n",
       "      <td>36367</td>\n",
       "      <td>2022-03-10 08:04:38+00:00</td>\n",
       "      <td>@SPTEMEL yarın iyi parti chp akp hurda lari bi...</td>\n",
       "      <td>1.501831e+18</td>\n",
       "    </tr>\n",
       "    <tr>\n",
       "      <th>5</th>\n",
       "      <td>49567</td>\n",
       "      <td>2021-03-20 11:13:27+00:00</td>\n",
       "      <td>@scorpio01937505 @NergisAtci Ben uzun süredir ...</td>\n",
       "      <td>1.373231e+18</td>\n",
       "    </tr>\n",
       "    <tr>\n",
       "      <th>6</th>\n",
       "      <td>16932</td>\n",
       "      <td>2021-03-20 12:09:18+00:00</td>\n",
       "      <td>Lgbt+liler kadar başınıza taş düşsün o zaman a...</td>\n",
       "      <td>1.373245e+18</td>\n",
       "    </tr>\n",
       "    <tr>\n",
       "      <th>7</th>\n",
       "      <td>30404</td>\n",
       "      <td>2021-03-20 07:19:26+00:00</td>\n",
       "      <td>Ben kocama ayıp olur diye hiçbir şeyi ne oldu ...</td>\n",
       "      <td>1.373172e+18</td>\n",
       "    </tr>\n",
       "    <tr>\n",
       "      <th>8</th>\n",
       "      <td>24768</td>\n",
       "      <td>2021-03-20 09:20:18+00:00</td>\n",
       "      <td>#istanbulsoezlesmesi https://t.co/Wn8YHQ8VPL</td>\n",
       "      <td>1.373203e+18</td>\n",
       "    </tr>\n",
       "    <tr>\n",
       "      <th>9</th>\n",
       "      <td>33663</td>\n",
       "      <td>2021-03-20 05:17:58+00:00</td>\n",
       "      <td>Halen daha içimizde bir umutla güzel bir güne ...</td>\n",
       "      <td>1.373142e+18</td>\n",
       "    </tr>\n",
       "  </tbody>\n",
       "</table>\n",
       "</div>"
      ],
      "text/plain": [
       "      No                       Date  \\\n",
       "0  23099  2021-03-20 09:49:34+00:00   \n",
       "1  36287  2022-03-16 17:34:35+00:00   \n",
       "2  51585  2021-03-20 00:35:25+00:00   \n",
       "3   7583  2021-03-21 18:02:37+00:00   \n",
       "4  36367  2022-03-10 08:04:38+00:00   \n",
       "5  49567  2021-03-20 11:13:27+00:00   \n",
       "6  16932  2021-03-20 12:09:18+00:00   \n",
       "7  30404  2021-03-20 07:19:26+00:00   \n",
       "8  24768  2021-03-20 09:20:18+00:00   \n",
       "9  33663  2021-03-20 05:17:58+00:00   \n",
       "\n",
       "                                               Tweet            Id  \n",
       "0  KADINLAR UYANIN, UYANIN KADINLAR!\\n#istanbulso...  1.373210e+18  \n",
       "1  Tarlabaşı midyecisi mahsun da ikinciye yürümüş...  1.504149e+18  \n",
       "2  Adi istanbul sözleşmesi ama içinde Türkiye yok...  1.373071e+18  \n",
       "3  mahallede bi kadın davul çalarak istanbul sözl...  1.373697e+18  \n",
       "4  @SPTEMEL yarın iyi parti chp akp hurda lari bi...  1.501831e+18  \n",
       "5  @scorpio01937505 @NergisAtci Ben uzun süredir ...  1.373231e+18  \n",
       "6  Lgbt+liler kadar başınıza taş düşsün o zaman a...  1.373245e+18  \n",
       "7  Ben kocama ayıp olur diye hiçbir şeyi ne oldu ...  1.373172e+18  \n",
       "8       #istanbulsoezlesmesi https://t.co/Wn8YHQ8VPL  1.373203e+18  \n",
       "9  Halen daha içimizde bir umutla güzel bir güne ...  1.373142e+18  "
      ]
     },
     "execution_count": 9,
     "metadata": {},
     "output_type": "execute_result"
    }
   ],
   "source": [
    "all_tweets.head(10)"
   ]
  },
  {
   "cell_type": "code",
   "execution_count": 10,
   "id": "1b66edff",
   "metadata": {},
   "outputs": [
    {
     "data": {
      "text/plain": [
       "No       False\n",
       "Date     False\n",
       "Tweet    False\n",
       "Id       False\n",
       "dtype: bool"
      ]
     },
     "execution_count": 10,
     "metadata": {},
     "output_type": "execute_result"
    }
   ],
   "source": [
    "all_tweets.isna().any()"
   ]
  },
  {
   "cell_type": "markdown",
   "id": "04987157",
   "metadata": {},
   "source": [
    "### CountVectorizer for text classification"
   ]
  },
  {
   "cell_type": "code",
   "execution_count": 12,
   "id": "14a4652c",
   "metadata": {},
   "outputs": [],
   "source": [
    "# Import the necessary modules\n",
    "from sklearn.feature_extraction.text import CountVectorizer\n",
    "from sklearn.model_selection import train_test_split"
   ]
  },
  {
   "cell_type": "code",
   "execution_count": 13,
   "id": "6245bd6c",
   "metadata": {},
   "outputs": [
    {
     "name": "stdout",
     "output_type": "stream",
     "text": [
      "['0wkblbjbnp', '0wktk2dxb1', '0wnr2ernvw', '0wqc2kfytr', '0wttnvjeta', '0wvi9tiloj', '0wxfyx4nfu', '0wyylzylti', '0xcbhzqps9', '0xf8icpcnd', '0xgjw9yv9x', '0xkdsy6p44', '0xlcxjmnnh', '0xnwuw8hkn', '0xpqjqrsam', '0xtcgczt2b', '0xvldekaxv', '0xvzu7fdi4', '0ydfvkbqpi', '0yebqwq1q9', '0yf0uvqr8t', '0ygwu33flo', '0yhj2xjven', '0yl4femo55', '0ywbobgyfg', '0ywhnkwy3y', '0z2o6gzzqn', '0zekvzrobi', '0zjatxjdmk', '0zr1pne9bg', '0zvqoq8kje', '10', '100', '1000', '1000btt', '1000lerce', '100binde', '100crore', '100lerce', '101', '102', '103', '103dangalak', '103gzslr5o', '104', '104emekliamiral', '1071', '1071demir', '1071kayaturk', '1071muzaffer']\n"
     ]
    }
   ],
   "source": [
    "count_vectorizer = CountVectorizer()\n",
    "\n",
    "count_train = count_vectorizer.fit_transform(all_tweets['Tweet'].values)\n",
    "\n",
    "print(count_vectorizer.get_feature_names()[250:300])"
   ]
  },
  {
   "cell_type": "code",
   "execution_count": 14,
   "id": "c4eb9658",
   "metadata": {},
   "outputs": [
    {
     "name": "stdout",
     "output_type": "stream",
     "text": [
      "['aa', 'aaah', 'aah', 'ab', 'abartmak', 'abb', 'abd', 'abdest', 'abdullah', 'abdurrahman']\n"
     ]
    }
   ],
   "source": [
    "# Create a series to store the labels: y\n",
    "y = annotated_istsöz.Sentiment\n",
    "\n",
    "X_train = annotated_istsöz['Tweet']\n",
    "y_train = annotated_istsöz['Sentiment']\n",
    "X_test = all_tweets['Tweet']\n",
    "\n",
    "# Initialize a CountVectorizer object: count_vectorizer\n",
    "count_vectorizer = CountVectorizer(stop_words='english')\n",
    "\n",
    "# Transform the training data using only the 'text' column values: count_train \n",
    "count_train = count_vectorizer.fit_transform(X_train)\n",
    "\n",
    "# Transform the test data using only the 'text' column values: count_test \n",
    "count_test = count_vectorizer.transform(X_test)\n",
    "\n",
    "# Print the first 10 features of the count_vectorizer\n",
    "print(count_vectorizer.get_feature_names()[:10])"
   ]
  },
  {
   "cell_type": "markdown",
   "id": "eb830abe",
   "metadata": {},
   "source": [
    "Logistic Regression with scikit-learn"
   ]
  },
  {
   "cell_type": "code",
   "execution_count": 15,
   "id": "c3a60686",
   "metadata": {},
   "outputs": [],
   "source": [
    "from sklearn.linear_model import LogisticRegression\n",
    "from sklearn import linear_model\n",
    "from sklearn import metrics"
   ]
  },
  {
   "cell_type": "code",
   "execution_count": 17,
   "id": "28cbd004",
   "metadata": {},
   "outputs": [
    {
     "name": "stderr",
     "output_type": "stream",
     "text": [
      "/Users/berrakarayel/opt/anaconda3/lib/python3.8/site-packages/sklearn/linear_model/_logistic.py:763: ConvergenceWarning: lbfgs failed to converge (status=1):\n",
      "STOP: TOTAL NO. of ITERATIONS REACHED LIMIT.\n",
      "\n",
      "Increase the number of iterations (max_iter) or scale the data as shown in:\n",
      "    https://scikit-learn.org/stable/modules/preprocessing.html\n",
      "Please also refer to the documentation for alternative solver options:\n",
      "    https://scikit-learn.org/stable/modules/linear_model.html#logistic-regression\n",
      "  n_iter_i = _check_optimize_result(\n"
     ]
    }
   ],
   "source": [
    "log_reg = LogisticRegression()\n",
    "\n",
    "log_reg.fit(count_train, y_train)\n",
    "pred = log_reg.predict(count_test)\n",
    "metrics.accuracy_score(y_test, pred)"
   ]
  },
  {
   "cell_type": "code",
   "execution_count": null,
   "id": "cdfc808e",
   "metadata": {},
   "outputs": [],
   "source": [
    "metrics.confusion_matrix(y_test, pred, labels=['positive', 'neutral', \"negative\"])"
   ]
  },
  {
   "cell_type": "code",
   "execution_count": 20,
   "id": "01200f24",
   "metadata": {},
   "outputs": [
    {
     "data": {
      "text/plain": [
       "array(['positive', 'positive', 'positive', ..., 'positive', 'positive',\n",
       "       'positive'], dtype=object)"
      ]
     },
     "execution_count": 20,
     "metadata": {},
     "output_type": "execute_result"
    }
   ],
   "source": [
    "pred"
   ]
  },
  {
   "cell_type": "code",
   "execution_count": 21,
   "id": "9aefd558",
   "metadata": {},
   "outputs": [],
   "source": [
    "df = pd.concat([X_test.reset_index(drop=True), pd.Series(pred, name=\"Predictions\")], axis=1)\n",
    "df.to_csv(\"predictions.csv\", index=False)"
   ]
  }
 ],
 "metadata": {
  "kernelspec": {
   "display_name": "Python 3",
   "language": "python",
   "name": "python3"
  },
  "language_info": {
   "codemirror_mode": {
    "name": "ipython",
    "version": 3
   },
   "file_extension": ".py",
   "mimetype": "text/x-python",
   "name": "python",
   "nbconvert_exporter": "python",
   "pygments_lexer": "ipython3",
   "version": "3.8.8"
  }
 },
 "nbformat": 4,
 "nbformat_minor": 5
}
